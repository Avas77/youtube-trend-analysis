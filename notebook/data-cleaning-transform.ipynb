{
 "cells": [
  {
   "cell_type": "code",
   "id": "initial_id",
   "metadata": {
    "collapsed": true,
    "ExecuteTime": {
     "end_time": "2025-05-17T23:59:53.148188Z",
     "start_time": "2025-05-17T23:59:52.250041Z"
    }
   },
   "source": [
    "from sqlalchemy import create_engine\n",
    "import pandas as pd\n",
    "import os"
   ],
   "outputs": [],
   "execution_count": 1
  },
  {
   "metadata": {
    "ExecuteTime": {
     "end_time": "2025-05-17T23:59:55.808931Z",
     "start_time": "2025-05-17T23:59:53.174234Z"
    }
   },
   "cell_type": "code",
   "source": "!pip install python-dotenv",
   "id": "cc15835dff542f6b",
   "outputs": [
    {
     "name": "stdout",
     "output_type": "stream",
     "text": [
      "Requirement already satisfied: python-dotenv in /home/avas/avas/youtube-pipeline/.venv/lib/python3.12/site-packages (1.1.0)\r\n",
      "\r\n",
      "\u001B[1m[\u001B[0m\u001B[34;49mnotice\u001B[0m\u001B[1;39;49m]\u001B[0m\u001B[39;49m A new release of pip is available: \u001B[0m\u001B[31;49m23.2.1\u001B[0m\u001B[39;49m -> \u001B[0m\u001B[32;49m25.1.1\u001B[0m\r\n",
      "\u001B[1m[\u001B[0m\u001B[34;49mnotice\u001B[0m\u001B[1;39;49m]\u001B[0m\u001B[39;49m To update, run: \u001B[0m\u001B[32;49mpip install --upgrade pip\u001B[0m\r\n"
     ]
    }
   ],
   "execution_count": 2
  },
  {
   "metadata": {
    "ExecuteTime": {
     "end_time": "2025-05-18T00:00:17.842268Z",
     "start_time": "2025-05-18T00:00:17.830997Z"
    }
   },
   "cell_type": "code",
   "source": [
    "from dotenv import load_dotenv\n",
    "\n",
    "load_dotenv()\n",
    "\n",
    "DB_USER = os.getenv(\"DB_USER\")\n",
    "DB_PASS = os.getenv(\"DB_PASS\")\n",
    "DB_HOST = os.getenv(\"DB_HOST\")\n",
    "DB_PORT = os.getenv(\"DB_PORT\")\n",
    "DB_NAME = os.getenv(\"DB_NAME\")"
   ],
   "id": "624b70740c6de82e",
   "outputs": [],
   "execution_count": 5
  },
  {
   "metadata": {
    "ExecuteTime": {
     "end_time": "2025-05-18T00:00:57.194928Z",
     "start_time": "2025-05-18T00:00:57.116784Z"
    }
   },
   "cell_type": "code",
   "source": "engine = create_engine(f'postgresql://{DB_USER}:{DB_PASS}@{DB_HOST}:{DB_PORT}/{DB_NAME}')",
   "id": "6abc90e524b6a4c7",
   "outputs": [],
   "execution_count": 6
  },
  {
   "metadata": {
    "ExecuteTime": {
     "end_time": "2025-05-18T00:00:58.238351Z",
     "start_time": "2025-05-18T00:00:58.168560Z"
    }
   },
   "cell_type": "code",
   "source": "df = pd.read_sql('select * from trending_videos', engine)",
   "id": "361d16fedbbbe77",
   "outputs": [],
   "execution_count": 7
  },
  {
   "metadata": {
    "ExecuteTime": {
     "end_time": "2025-05-18T00:00:59.368158Z",
     "start_time": "2025-05-18T00:00:59.349573Z"
    }
   },
   "cell_type": "code",
   "source": "df.head()",
   "id": "5d78ab114b8de9a2",
   "outputs": [
    {
     "data": {
      "text/plain": [
       "      video_id                                       title  \\\n",
       "0  -4GmbBoYQjE   I Survived 100 Hours In An Ancient Temple   \n",
       "1  OjTNQNr7LA8          Trump Mother's Day Cold Open - SNL   \n",
       "2  InxXnmZhjKQ          Outer Banks - First Impressions 🇺🇸   \n",
       "3  __Yrwoxz-4Y  I Faced My Biggest Fear! (Plastic Surgery)   \n",
       "4  MUc5VUtpGl8                          AMP MARIO KART IRL   \n",
       "\n",
       "               channel              published_at  category_id  view_count  \\\n",
       "0              MrBeast 2025-05-10 16:00:01+00:00           24    29883658   \n",
       "1  Saturday Night Live 2025-05-11 04:18:21+00:00           23      942175   \n",
       "2     Peter Santenello 2025-05-10 15:00:24+00:00           19      570382   \n",
       "3  The Anazala Family  2025-05-10 15:04:40+00:00           24     1910494   \n",
       "4                  AMP 2025-05-10 19:00:48+00:00           24     1017702   \n",
       "\n",
       "   like_count  comment_count  \n",
       "0     1320076          40438  \n",
       "1       35368           2474  \n",
       "2       19566           2162  \n",
       "3       28508           5178  \n",
       "4       42383           2151  "
      ],
      "text/html": [
       "<div>\n",
       "<style scoped>\n",
       "    .dataframe tbody tr th:only-of-type {\n",
       "        vertical-align: middle;\n",
       "    }\n",
       "\n",
       "    .dataframe tbody tr th {\n",
       "        vertical-align: top;\n",
       "    }\n",
       "\n",
       "    .dataframe thead th {\n",
       "        text-align: right;\n",
       "    }\n",
       "</style>\n",
       "<table border=\"1\" class=\"dataframe\">\n",
       "  <thead>\n",
       "    <tr style=\"text-align: right;\">\n",
       "      <th></th>\n",
       "      <th>video_id</th>\n",
       "      <th>title</th>\n",
       "      <th>channel</th>\n",
       "      <th>published_at</th>\n",
       "      <th>category_id</th>\n",
       "      <th>view_count</th>\n",
       "      <th>like_count</th>\n",
       "      <th>comment_count</th>\n",
       "    </tr>\n",
       "  </thead>\n",
       "  <tbody>\n",
       "    <tr>\n",
       "      <th>0</th>\n",
       "      <td>-4GmbBoYQjE</td>\n",
       "      <td>I Survived 100 Hours In An Ancient Temple</td>\n",
       "      <td>MrBeast</td>\n",
       "      <td>2025-05-10 16:00:01+00:00</td>\n",
       "      <td>24</td>\n",
       "      <td>29883658</td>\n",
       "      <td>1320076</td>\n",
       "      <td>40438</td>\n",
       "    </tr>\n",
       "    <tr>\n",
       "      <th>1</th>\n",
       "      <td>OjTNQNr7LA8</td>\n",
       "      <td>Trump Mother's Day Cold Open - SNL</td>\n",
       "      <td>Saturday Night Live</td>\n",
       "      <td>2025-05-11 04:18:21+00:00</td>\n",
       "      <td>23</td>\n",
       "      <td>942175</td>\n",
       "      <td>35368</td>\n",
       "      <td>2474</td>\n",
       "    </tr>\n",
       "    <tr>\n",
       "      <th>2</th>\n",
       "      <td>InxXnmZhjKQ</td>\n",
       "      <td>Outer Banks - First Impressions 🇺🇸</td>\n",
       "      <td>Peter Santenello</td>\n",
       "      <td>2025-05-10 15:00:24+00:00</td>\n",
       "      <td>19</td>\n",
       "      <td>570382</td>\n",
       "      <td>19566</td>\n",
       "      <td>2162</td>\n",
       "    </tr>\n",
       "    <tr>\n",
       "      <th>3</th>\n",
       "      <td>__Yrwoxz-4Y</td>\n",
       "      <td>I Faced My Biggest Fear! (Plastic Surgery)</td>\n",
       "      <td>The Anazala Family</td>\n",
       "      <td>2025-05-10 15:04:40+00:00</td>\n",
       "      <td>24</td>\n",
       "      <td>1910494</td>\n",
       "      <td>28508</td>\n",
       "      <td>5178</td>\n",
       "    </tr>\n",
       "    <tr>\n",
       "      <th>4</th>\n",
       "      <td>MUc5VUtpGl8</td>\n",
       "      <td>AMP MARIO KART IRL</td>\n",
       "      <td>AMP</td>\n",
       "      <td>2025-05-10 19:00:48+00:00</td>\n",
       "      <td>24</td>\n",
       "      <td>1017702</td>\n",
       "      <td>42383</td>\n",
       "      <td>2151</td>\n",
       "    </tr>\n",
       "  </tbody>\n",
       "</table>\n",
       "</div>"
      ]
     },
     "execution_count": 8,
     "metadata": {},
     "output_type": "execute_result"
    }
   ],
   "execution_count": 8
  },
  {
   "metadata": {
    "ExecuteTime": {
     "end_time": "2025-05-18T00:01:00.004487Z",
     "start_time": "2025-05-18T00:00:59.996059Z"
    }
   },
   "cell_type": "code",
   "source": "df.drop_duplicates(subset=['video_id'], inplace=True)",
   "id": "7b1d1c426d942289",
   "outputs": [],
   "execution_count": 9
  },
  {
   "metadata": {
    "ExecuteTime": {
     "end_time": "2025-05-18T00:01:00.528779Z",
     "start_time": "2025-05-18T00:01:00.522918Z"
    }
   },
   "cell_type": "code",
   "source": "df['published_at'] = pd.to_datetime(df['published_at'])",
   "id": "d59579565325411b",
   "outputs": [],
   "execution_count": 10
  },
  {
   "metadata": {
    "ExecuteTime": {
     "end_time": "2025-05-18T00:01:01.085533Z",
     "start_time": "2025-05-18T00:01:01.078696Z"
    }
   },
   "cell_type": "code",
   "source": "df['published_at']",
   "id": "f44aeac3efd812e7",
   "outputs": [
    {
     "data": {
      "text/plain": [
       "0    2025-05-10 16:00:01+00:00\n",
       "1    2025-05-11 04:18:21+00:00\n",
       "2    2025-05-10 15:00:24+00:00\n",
       "3    2025-05-10 15:04:40+00:00\n",
       "4    2025-05-10 19:00:48+00:00\n",
       "5    2025-05-10 14:30:33+00:00\n",
       "6    2025-05-09 01:00:07+00:00\n",
       "7    2025-05-09 16:05:08+00:00\n",
       "8    2025-05-09 12:01:39+00:00\n",
       "9    2025-05-09 14:37:29+00:00\n",
       "10   2025-05-10 14:01:27+00:00\n",
       "11   2025-05-10 10:45:07+00:00\n",
       "12   2025-05-10 05:23:02+00:00\n",
       "13   2025-05-10 02:00:40+00:00\n",
       "14   2025-05-09 01:00:33+00:00\n",
       "15   2025-05-09 20:00:06+00:00\n",
       "16   2025-05-09 16:00:06+00:00\n",
       "17   2025-05-10 02:13:22+00:00\n",
       "18   2025-05-09 21:00:19+00:00\n",
       "19   2025-05-10 03:08:55+00:00\n",
       "20   2025-05-08 16:00:19+00:00\n",
       "21   2025-05-10 14:00:07+00:00\n",
       "22   2025-05-09 20:28:02+00:00\n",
       "23   2025-04-29 14:51:48+00:00\n",
       "24   2025-05-09 21:17:14+00:00\n",
       "25   2025-05-08 19:42:59+00:00\n",
       "26   2025-05-09 13:01:27+00:00\n",
       "27   2025-05-09 15:01:01+00:00\n",
       "28   2025-05-09 20:00:01+00:00\n",
       "29   2025-05-09 18:28:50+00:00\n",
       "30   2025-05-09 15:52:24+00:00\n",
       "31   2025-05-09 14:00:06+00:00\n",
       "32   2025-05-08 17:57:04+00:00\n",
       "33   2025-05-10 05:15:38+00:00\n",
       "34   2025-05-09 04:00:07+00:00\n",
       "35   2025-05-09 15:01:14+00:00\n",
       "36   2025-05-09 13:42:38+00:00\n",
       "37   2025-05-09 22:30:07+00:00\n",
       "38   2025-05-09 14:15:10+00:00\n",
       "39   2025-05-09 11:01:28+00:00\n",
       "40   2025-05-09 00:00:06+00:00\n",
       "41   2025-05-09 04:00:12+00:00\n",
       "42   2025-05-08 23:59:42+00:00\n",
       "43   2025-05-06 13:29:04+00:00\n",
       "44   2025-05-09 15:48:18+00:00\n",
       "45   2025-05-08 19:59:57+00:00\n",
       "46   2025-05-08 20:28:37+00:00\n",
       "47   2025-05-07 14:28:46+00:00\n",
       "48   2025-05-08 19:29:30+00:00\n",
       "49   2025-05-08 03:28:10+00:00\n",
       "Name: published_at, dtype: datetime64[ns, UTC]"
      ]
     },
     "execution_count": 11,
     "metadata": {},
     "output_type": "execute_result"
    }
   ],
   "execution_count": 11
  },
  {
   "metadata": {
    "ExecuteTime": {
     "end_time": "2025-05-18T00:01:01.703854Z",
     "start_time": "2025-05-18T00:01:01.688850Z"
    }
   },
   "cell_type": "code",
   "source": "df['video_age_days'] = (pd.Timestamp.now(tz='UTC') - df['published_at']).dt.days",
   "id": "ec290811cb22689d",
   "outputs": [],
   "execution_count": 12
  },
  {
   "metadata": {
    "ExecuteTime": {
     "end_time": "2025-05-18T00:01:02.346924Z",
     "start_time": "2025-05-18T00:01:02.340255Z"
    }
   },
   "cell_type": "code",
   "source": "df['engagement_percent'] = ((df['comment_count'] + df['like_count']) / df['view_count']) * 100",
   "id": "3ce1f7fb99bdbfc4",
   "outputs": [],
   "execution_count": 13
  },
  {
   "metadata": {
    "ExecuteTime": {
     "end_time": "2025-05-18T00:01:02.841447Z",
     "start_time": "2025-05-18T00:01:02.836955Z"
    }
   },
   "cell_type": "code",
   "source": "df['engagement_percent'] = df['engagement_percent'].round(2)",
   "id": "430a684aca3357d4",
   "outputs": [],
   "execution_count": 14
  },
  {
   "metadata": {
    "ExecuteTime": {
     "end_time": "2025-05-18T00:01:03.646250Z",
     "start_time": "2025-05-18T00:01:03.624466Z"
    }
   },
   "cell_type": "code",
   "source": "df.nlargest(10, 'view_count')[['title', 'view_count']]",
   "id": "e9b848a63bc34b69",
   "outputs": [
    {
     "data": {
      "text/plain": [
       "                                                title  view_count\n",
       "43                      Grand Theft Auto VI Trailer 2   100750053\n",
       "0           I Survived 100 Hours In An Ancient Temple    29883658\n",
       "20        The Conjuring: Last Rites | Official Teaser    16254006\n",
       "47                    I Built Minecraft In Real Life!     8762691\n",
       "48  MY 2ND DEEPEST FEAR.. There's a GIANT Spider [...     4280750\n",
       "25            LIVE: Robert Prevost named Pope Leo XIV     2864920\n",
       "21     TRAPPED in ABANDONED SCHOOL *Security Cameras*     2823978\n",
       "6   Coulda Been Records BALTIMORE Auditions hosted...     2726907\n",
       "32                        First American pope elected     2509936\n",
       "7         Peacemaker Season 2 | Official Teaser | Max     2248546"
      ],
      "text/html": [
       "<div>\n",
       "<style scoped>\n",
       "    .dataframe tbody tr th:only-of-type {\n",
       "        vertical-align: middle;\n",
       "    }\n",
       "\n",
       "    .dataframe tbody tr th {\n",
       "        vertical-align: top;\n",
       "    }\n",
       "\n",
       "    .dataframe thead th {\n",
       "        text-align: right;\n",
       "    }\n",
       "</style>\n",
       "<table border=\"1\" class=\"dataframe\">\n",
       "  <thead>\n",
       "    <tr style=\"text-align: right;\">\n",
       "      <th></th>\n",
       "      <th>title</th>\n",
       "      <th>view_count</th>\n",
       "    </tr>\n",
       "  </thead>\n",
       "  <tbody>\n",
       "    <tr>\n",
       "      <th>43</th>\n",
       "      <td>Grand Theft Auto VI Trailer 2</td>\n",
       "      <td>100750053</td>\n",
       "    </tr>\n",
       "    <tr>\n",
       "      <th>0</th>\n",
       "      <td>I Survived 100 Hours In An Ancient Temple</td>\n",
       "      <td>29883658</td>\n",
       "    </tr>\n",
       "    <tr>\n",
       "      <th>20</th>\n",
       "      <td>The Conjuring: Last Rites | Official Teaser</td>\n",
       "      <td>16254006</td>\n",
       "    </tr>\n",
       "    <tr>\n",
       "      <th>47</th>\n",
       "      <td>I Built Minecraft In Real Life!</td>\n",
       "      <td>8762691</td>\n",
       "    </tr>\n",
       "    <tr>\n",
       "      <th>48</th>\n",
       "      <td>MY 2ND DEEPEST FEAR.. There's a GIANT Spider [...</td>\n",
       "      <td>4280750</td>\n",
       "    </tr>\n",
       "    <tr>\n",
       "      <th>25</th>\n",
       "      <td>LIVE: Robert Prevost named Pope Leo XIV</td>\n",
       "      <td>2864920</td>\n",
       "    </tr>\n",
       "    <tr>\n",
       "      <th>21</th>\n",
       "      <td>TRAPPED in ABANDONED SCHOOL *Security Cameras*</td>\n",
       "      <td>2823978</td>\n",
       "    </tr>\n",
       "    <tr>\n",
       "      <th>6</th>\n",
       "      <td>Coulda Been Records BALTIMORE Auditions hosted...</td>\n",
       "      <td>2726907</td>\n",
       "    </tr>\n",
       "    <tr>\n",
       "      <th>32</th>\n",
       "      <td>First American pope elected</td>\n",
       "      <td>2509936</td>\n",
       "    </tr>\n",
       "    <tr>\n",
       "      <th>7</th>\n",
       "      <td>Peacemaker Season 2 | Official Teaser | Max</td>\n",
       "      <td>2248546</td>\n",
       "    </tr>\n",
       "  </tbody>\n",
       "</table>\n",
       "</div>"
      ]
     },
     "execution_count": 15,
     "metadata": {},
     "output_type": "execute_result"
    }
   ],
   "execution_count": 15
  },
  {
   "metadata": {
    "ExecuteTime": {
     "end_time": "2025-05-18T00:01:04.949771Z",
     "start_time": "2025-05-18T00:01:04.932076Z"
    }
   },
   "cell_type": "code",
   "source": "df.nlargest(10, 'engagement_percent')[['title', 'engagement_percent']]",
   "id": "9ea112cfa7a1c7b",
   "outputs": [
    {
     "data": {
      "text/plain": [
       "                                                title  engagement_percent\n",
       "26        The all-knowing lie detector | Chris & Jack               13.04\n",
       "17      How GTA 6 REALLY got their graphics that good               12.78\n",
       "41         $UICIDEBOY$ - Self-Inflicted (Lyric Video)               12.70\n",
       "48  MY 2ND DEEPEST FEAR.. There's a GIANT Spider [...               10.29\n",
       "30  Avril Lavigne - Young & Dumb (feat. Simple Pla...                9.43\n",
       "9                      How I Became A Pro Bodybuilder                8.93\n",
       "16  Kocky Ka - Dark Nights (Remix) Feat Meek Mill ...                7.60\n",
       "27                   Fixing Ludwig’s Stolen Kei Truck                6.19\n",
       "43                      Grand Theft Auto VI Trailer 2                6.14\n",
       "39  Overwatch 2 x Street Fighter 6 | Collaboration...                5.83"
      ],
      "text/html": [
       "<div>\n",
       "<style scoped>\n",
       "    .dataframe tbody tr th:only-of-type {\n",
       "        vertical-align: middle;\n",
       "    }\n",
       "\n",
       "    .dataframe tbody tr th {\n",
       "        vertical-align: top;\n",
       "    }\n",
       "\n",
       "    .dataframe thead th {\n",
       "        text-align: right;\n",
       "    }\n",
       "</style>\n",
       "<table border=\"1\" class=\"dataframe\">\n",
       "  <thead>\n",
       "    <tr style=\"text-align: right;\">\n",
       "      <th></th>\n",
       "      <th>title</th>\n",
       "      <th>engagement_percent</th>\n",
       "    </tr>\n",
       "  </thead>\n",
       "  <tbody>\n",
       "    <tr>\n",
       "      <th>26</th>\n",
       "      <td>The all-knowing lie detector | Chris &amp; Jack</td>\n",
       "      <td>13.04</td>\n",
       "    </tr>\n",
       "    <tr>\n",
       "      <th>17</th>\n",
       "      <td>How GTA 6 REALLY got their graphics that good</td>\n",
       "      <td>12.78</td>\n",
       "    </tr>\n",
       "    <tr>\n",
       "      <th>41</th>\n",
       "      <td>$UICIDEBOY$ - Self-Inflicted (Lyric Video)</td>\n",
       "      <td>12.70</td>\n",
       "    </tr>\n",
       "    <tr>\n",
       "      <th>48</th>\n",
       "      <td>MY 2ND DEEPEST FEAR.. There's a GIANT Spider [...</td>\n",
       "      <td>10.29</td>\n",
       "    </tr>\n",
       "    <tr>\n",
       "      <th>30</th>\n",
       "      <td>Avril Lavigne - Young &amp; Dumb (feat. Simple Pla...</td>\n",
       "      <td>9.43</td>\n",
       "    </tr>\n",
       "    <tr>\n",
       "      <th>9</th>\n",
       "      <td>How I Became A Pro Bodybuilder</td>\n",
       "      <td>8.93</td>\n",
       "    </tr>\n",
       "    <tr>\n",
       "      <th>16</th>\n",
       "      <td>Kocky Ka - Dark Nights (Remix) Feat Meek Mill ...</td>\n",
       "      <td>7.60</td>\n",
       "    </tr>\n",
       "    <tr>\n",
       "      <th>27</th>\n",
       "      <td>Fixing Ludwig’s Stolen Kei Truck</td>\n",
       "      <td>6.19</td>\n",
       "    </tr>\n",
       "    <tr>\n",
       "      <th>43</th>\n",
       "      <td>Grand Theft Auto VI Trailer 2</td>\n",
       "      <td>6.14</td>\n",
       "    </tr>\n",
       "    <tr>\n",
       "      <th>39</th>\n",
       "      <td>Overwatch 2 x Street Fighter 6 | Collaboration...</td>\n",
       "      <td>5.83</td>\n",
       "    </tr>\n",
       "  </tbody>\n",
       "</table>\n",
       "</div>"
      ]
     },
     "execution_count": 16,
     "metadata": {},
     "output_type": "execute_result"
    }
   ],
   "execution_count": 16
  },
  {
   "metadata": {
    "ExecuteTime": {
     "end_time": "2025-05-18T00:01:06.334894Z",
     "start_time": "2025-05-18T00:01:06.200374Z"
    }
   },
   "cell_type": "code",
   "source": "df.to_sql('trending_videos_cleaned', con=engine, if_exists='replace', index=False)",
   "id": "7caeea222f4e99a5",
   "outputs": [
    {
     "data": {
      "text/plain": [
       "50"
      ]
     },
     "execution_count": 17,
     "metadata": {},
     "output_type": "execute_result"
    }
   ],
   "execution_count": 17
  },
  {
   "metadata": {},
   "cell_type": "code",
   "outputs": [],
   "execution_count": null,
   "source": "",
   "id": "8d48b63d057efb63"
  }
 ],
 "metadata": {
  "kernelspec": {
   "display_name": "Python 3",
   "language": "python",
   "name": "python3"
  },
  "language_info": {
   "codemirror_mode": {
    "name": "ipython",
    "version": 2
   },
   "file_extension": ".py",
   "mimetype": "text/x-python",
   "name": "python",
   "nbconvert_exporter": "python",
   "pygments_lexer": "ipython2",
   "version": "2.7.6"
  }
 },
 "nbformat": 4,
 "nbformat_minor": 5
}
